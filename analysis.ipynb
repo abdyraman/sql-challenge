{
 "cells": [
  {
   "cell_type": "code",
   "execution_count": 1,
   "id": "e65f3f66",
   "metadata": {},
   "outputs": [],
   "source": [
    "import pandas as pd"
   ]
  },
  {
   "cell_type": "code",
   "execution_count": null,
   "id": "356062a6",
   "metadata": {},
   "outputs": [],
   "source": [
    "# List the employee number, last name, first name, sex, and salary of each employee (2 points)\n"
   ]
  },
  {
   "cell_type": "code",
   "execution_count": null,
   "id": "b72ad161",
   "metadata": {},
   "outputs": [],
   "source": [
    "# List the first name, last name, and hire date for the employees who were hired in 1986 (2 points)\n"
   ]
  },
  {
   "cell_type": "code",
   "execution_count": null,
   "id": "520748cf",
   "metadata": {},
   "outputs": [],
   "source": [
    "# List the manager of each department along with their department number, department name, employee number, last name, and first name (2 points)\n"
   ]
  },
  {
   "cell_type": "code",
   "execution_count": null,
   "id": "6dfeac49",
   "metadata": {},
   "outputs": [],
   "source": [
    "# List the department number for each employee along with that employee’s employee number, last name, first name, and department name (2 points)\n"
   ]
  },
  {
   "cell_type": "code",
   "execution_count": null,
   "id": "b08c066a",
   "metadata": {},
   "outputs": [],
   "source": [
    "# List first name, last name, and sex of each employee whose first name is Hercules and whose last name begins with the letter B (2 points)\n"
   ]
  },
  {
   "cell_type": "code",
   "execution_count": null,
   "id": "8d1012ed",
   "metadata": {},
   "outputs": [],
   "source": [
    "# List each employee in the Sales department, including their employee number, last name, and first name (2 points)\n"
   ]
  },
  {
   "cell_type": "code",
   "execution_count": null,
   "id": "2fdf6a52",
   "metadata": {},
   "outputs": [],
   "source": [
    "# List each employee in the Sales and Development departments, including their employee number, last name, first name, and department name (4 points)\n"
   ]
  },
  {
   "cell_type": "code",
   "execution_count": null,
   "id": "85cefd40",
   "metadata": {},
   "outputs": [],
   "source": [
    "# List the frequency counts, in descending order, of all the employee last names (that is, how many employees share each last name) (4 points)"
   ]
  }
 ],
 "metadata": {
  "kernelspec": {
   "display_name": "Python 3 (ipykernel)",
   "language": "python",
   "name": "python3"
  },
  "language_info": {
   "codemirror_mode": {
    "name": "ipython",
    "version": 3
   },
   "file_extension": ".py",
   "mimetype": "text/x-python",
   "name": "python",
   "nbconvert_exporter": "python",
   "pygments_lexer": "ipython3",
   "version": "3.9.13"
  }
 },
 "nbformat": 4,
 "nbformat_minor": 5
}
